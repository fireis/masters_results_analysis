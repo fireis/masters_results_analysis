{
 "cells": [
  {
   "cell_type": "code",
   "execution_count": 1,
   "metadata": {},
   "outputs": [],
   "source": [
    "import pandas as pd\n",
    "import scipy.stats as stats\n",
    "import statsmodels.stats.proportion as prop\n",
    "from scipy.stats import chisquare\n"
   ]
  },
  {
   "cell_type": "markdown",
   "metadata": {},
   "source": [
    "## Synthesis Method Comparison "
   ]
  },
  {
   "cell_type": "code",
   "execution_count": 2,
   "metadata": {},
   "outputs": [],
   "source": [
    "sm_our_model = 176\n",
    "sm_v2v = 146\n",
    "sm_total = sm_our_model + sm_v2v"
   ]
  },
  {
   "cell_type": "code",
   "execution_count": 3,
   "metadata": {},
   "outputs": [
    {
     "data": {
      "text/plain": [
       "0.1059254592999359"
      ]
     },
     "execution_count": 3,
     "metadata": {},
     "output_type": "execute_result"
    }
   ],
   "source": [
    "pvalue_vem_succ = stats.binom_test(sm_our_model, sm_total )\n",
    "pvalue_vem_succ"
   ]
  },
  {
   "cell_type": "code",
   "execution_count": 4,
   "metadata": {},
   "outputs": [
    {
     "data": {
      "text/plain": [
       "(0.49220912946859474, 0.6009585723947594)"
      ]
     },
     "execution_count": 4,
     "metadata": {},
     "output_type": "execute_result"
    }
   ],
   "source": [
    "prop.proportion_confint(sm_our_model, sm_total )"
   ]
  },
  {
   "cell_type": "markdown",
   "metadata": {},
   "source": [
    "## Neutral to Expressive Synthesis - Same Subject"
   ]
  },
  {
   "cell_type": "markdown",
   "metadata": {},
   "source": [
    "emo_okp_car_vem"
   ]
  },
  {
   "cell_type": "code",
   "execution_count": 5,
   "metadata": {},
   "outputs": [
    {
     "name": "stdout",
     "output_type": "stream",
     "text": [
      "Power_divergenceResult(statistic=89.4390243902439, pvalue=3.78933167600158e-20)\n",
      "Power_divergenceResult(statistic=111.46341463414635, pvalue=5.3134726221001456e-24)\n",
      "Power_divergenceResult(statistic=74.1951219512195, pvalue=7.076494845710739e-18)\n",
      "Power_divergenceResult(statistic=47.731707317073166, pvalue=4.317093454670246e-11)\n"
     ]
    }
   ],
   "source": [
    "happy = chisquare([67, 14, 1])\n",
    "print(happy)\n",
    "fear = chisquare([61, 15, 4, 2])\n",
    "print(fear)\n",
    "anger = chisquare([80, 2])\n",
    "print(anger)\n",
    "admiration = chisquare([52, 1, 29])\n",
    "print(admiration)"
   ]
  },
  {
   "cell_type": "markdown",
   "metadata": {},
   "source": [
    "## Neutral to Expressive Synthesis - Different Subject"
   ]
  },
  {
   "cell_type": "markdown",
   "metadata": {},
   "source": [
    "emo_okp_edu_vem"
   ]
  },
  {
   "cell_type": "code",
   "execution_count": 6,
   "metadata": {},
   "outputs": [
    {
     "name": "stdout",
     "output_type": "stream",
     "text": [
      "Power_divergenceResult(statistic=84.6829268292683, pvalue=4.086354908445608e-19)\n",
      "Power_divergenceResult(statistic=59.36585365853659, pvalue=8.030011728918031e-13)\n",
      "Power_divergenceResult(statistic=86.29268292682927, pvalue=1.369799944118521e-18)\n",
      "Power_divergenceResult(statistic=11.365853658536587, pvalue=0.009903466979852667)\n"
     ]
    }
   ],
   "source": [
    "happy = chisquare([66, 2, 14])\n",
    "print(happy)\n",
    "fear = chisquare([46, 27, 7, 2])\n",
    "print(fear)\n",
    "anger = chisquare([56, 16, 3, 7])\n",
    "print(anger)\n",
    "admiration = chisquare([30, 25, 17, 10])\n",
    "print(admiration)"
   ]
  },
  {
   "cell_type": "code",
   "execution_count": null,
   "metadata": {},
   "outputs": [],
   "source": []
  }
 ],
 "metadata": {
  "file_extension": ".py",
  "kernelspec": {
   "display_name": "Python 3",
   "language": "python",
   "name": "python3"
  },
  "language_info": {
   "codemirror_mode": {
    "name": "ipython",
    "version": 3
   },
   "file_extension": ".py",
   "mimetype": "text/x-python",
   "name": "python",
   "nbconvert_exporter": "python",
   "pygments_lexer": "ipython3",
   "version": "3.7.4"
  },
  "mimetype": "text/x-python",
  "name": "python",
  "npconvert_exporter": "python",
  "pygments_lexer": "ipython3",
  "version": 3
 },
 "nbformat": 4,
 "nbformat_minor": 2
}
